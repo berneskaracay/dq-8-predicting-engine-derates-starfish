{
 "cells": [
  {
   "cell_type": "code",
   "execution_count": 1,
   "metadata": {},
   "outputs": [],
   "source": [
    "import pandas as pd\n",
    "import numpy as np\n",
    "import matplotlib.pyplot as plt\n",
    "import seaborn as sns"
   ]
  },
  {
   "cell_type": "code",
   "execution_count": 2,
   "metadata": {},
   "outputs": [],
   "source": [
    "# Reading data\n",
    "faults_columns=[\"FaultId\", \"ESS_Id\", \"EventTimeStamp\", \"eventDescription\",\n",
    "         \"actionDescription\", \"ecuSoftwareVersion\", \"ecuSerialNumber\",\n",
    "        'ecuModel', \"ecuMake\", \"ecuSource\", \"spn\", \"fmi\", \"active\",\n",
    "         \"activeTransitionCount\", \"faultValue\", \"EquipmentID\", \n",
    "         \"MCTNumber\", \"Latitude\", \"Longitude\",\"LocationTimeStamp\"]\n",
    "diagnostics_columns= ['record_Id', 'Name', 'Value', 'FaultId']\n",
    "\n",
    "faults = pd.read_csv('./data/J1939Faults.csv',\n",
    "                           names=faults_columns, low_memory=False)\n",
    "diagnostics = pd.read_csv('./data/VehicleDiagnosticOnboardData.csv', names=diagnostics_columns)\n",
    "service =pd.read_excel('./data/Service Fault Codes_1_0_0_167.xlsx')\n"
   ]
  },
  {
   "cell_type": "code",
   "execution_count": 3,
   "metadata": {},
   "outputs": [
    {
     "data": {
      "text/html": [
       "<div>\n",
       "<style scoped>\n",
       "    .dataframe tbody tr th:only-of-type {\n",
       "        vertical-align: middle;\n",
       "    }\n",
       "\n",
       "    .dataframe tbody tr th {\n",
       "        vertical-align: top;\n",
       "    }\n",
       "\n",
       "    .dataframe thead th {\n",
       "        text-align: right;\n",
       "    }\n",
       "</style>\n",
       "<table border=\"1\" class=\"dataframe\">\n",
       "  <thead>\n",
       "    <tr style=\"text-align: right;\">\n",
       "      <th></th>\n",
       "      <th>FaultId</th>\n",
       "      <th>ESS_Id</th>\n",
       "      <th>EventTimeStamp</th>\n",
       "      <th>eventDescription</th>\n",
       "      <th>actionDescription</th>\n",
       "      <th>ecuSoftwareVersion</th>\n",
       "      <th>ecuSerialNumber</th>\n",
       "      <th>ecuModel</th>\n",
       "      <th>ecuMake</th>\n",
       "      <th>ecuSource</th>\n",
       "      <th>spn</th>\n",
       "      <th>fmi</th>\n",
       "      <th>active</th>\n",
       "      <th>activeTransitionCount</th>\n",
       "      <th>faultValue</th>\n",
       "      <th>EquipmentID</th>\n",
       "      <th>MCTNumber</th>\n",
       "      <th>Latitude</th>\n",
       "      <th>Longitude</th>\n",
       "      <th>LocationTimeStamp</th>\n",
       "    </tr>\n",
       "  </thead>\n",
       "  <tbody>\n",
       "    <tr>\n",
       "      <th>0</th>\n",
       "      <td>1</td>\n",
       "      <td>990349</td>\n",
       "      <td>2015-02-21 10:47:13.000</td>\n",
       "      <td>Low (Severity Low) Engine Coolant Level</td>\n",
       "      <td>NaN</td>\n",
       "      <td>unknown</td>\n",
       "      <td>unknown</td>\n",
       "      <td>unknown</td>\n",
       "      <td>unknown</td>\n",
       "      <td>0</td>\n",
       "      <td>111</td>\n",
       "      <td>17</td>\n",
       "      <td>True</td>\n",
       "      <td>2</td>\n",
       "      <td>NaN</td>\n",
       "      <td>1439</td>\n",
       "      <td>105354361</td>\n",
       "      <td>38.857638</td>\n",
       "      <td>-84.626851</td>\n",
       "      <td>2015-02-21 11:34:25.000</td>\n",
       "    </tr>\n",
       "    <tr>\n",
       "      <th>1</th>\n",
       "      <td>2</td>\n",
       "      <td>990360</td>\n",
       "      <td>2015-02-21 11:34:34.000</td>\n",
       "      <td>NaN</td>\n",
       "      <td>NaN</td>\n",
       "      <td>unknown</td>\n",
       "      <td>unknown</td>\n",
       "      <td>unknown</td>\n",
       "      <td>unknown</td>\n",
       "      <td>11</td>\n",
       "      <td>629</td>\n",
       "      <td>12</td>\n",
       "      <td>True</td>\n",
       "      <td>127</td>\n",
       "      <td>NaN</td>\n",
       "      <td>1439</td>\n",
       "      <td>105354361</td>\n",
       "      <td>38.857638</td>\n",
       "      <td>-84.626851</td>\n",
       "      <td>2015-02-21 11:35:10.000</td>\n",
       "    </tr>\n",
       "    <tr>\n",
       "      <th>2</th>\n",
       "      <td>3</td>\n",
       "      <td>990364</td>\n",
       "      <td>2015-02-21 11:35:31.000</td>\n",
       "      <td>Incorrect Data Steering Wheel Angle</td>\n",
       "      <td>NaN</td>\n",
       "      <td>unknown</td>\n",
       "      <td>unknown</td>\n",
       "      <td>unknown</td>\n",
       "      <td>unknown</td>\n",
       "      <td>11</td>\n",
       "      <td>1807</td>\n",
       "      <td>2</td>\n",
       "      <td>False</td>\n",
       "      <td>127</td>\n",
       "      <td>NaN</td>\n",
       "      <td>1369</td>\n",
       "      <td>105336226</td>\n",
       "      <td>41.421250</td>\n",
       "      <td>-87.767361</td>\n",
       "      <td>2015-02-21 11:35:26.000</td>\n",
       "    </tr>\n",
       "    <tr>\n",
       "      <th>3</th>\n",
       "      <td>4</td>\n",
       "      <td>990370</td>\n",
       "      <td>2015-02-21 11:35:33.000</td>\n",
       "      <td>Incorrect Data Steering Wheel Angle</td>\n",
       "      <td>NaN</td>\n",
       "      <td>unknown</td>\n",
       "      <td>unknown</td>\n",
       "      <td>unknown</td>\n",
       "      <td>unknown</td>\n",
       "      <td>11</td>\n",
       "      <td>1807</td>\n",
       "      <td>2</td>\n",
       "      <td>True</td>\n",
       "      <td>127</td>\n",
       "      <td>NaN</td>\n",
       "      <td>1369</td>\n",
       "      <td>105336226</td>\n",
       "      <td>41.421018</td>\n",
       "      <td>-87.767361</td>\n",
       "      <td>2015-02-21 11:36:08.000</td>\n",
       "    </tr>\n",
       "    <tr>\n",
       "      <th>4</th>\n",
       "      <td>5</td>\n",
       "      <td>990416</td>\n",
       "      <td>2015-02-21 11:39:41.000</td>\n",
       "      <td>NaN</td>\n",
       "      <td>NaN</td>\n",
       "      <td>22281684P01*22357957P01*22362082P01*</td>\n",
       "      <td>13063430</td>\n",
       "      <td>0USA13_13_0415_2238A</td>\n",
       "      <td>VOLVO</td>\n",
       "      <td>0</td>\n",
       "      <td>4364</td>\n",
       "      <td>17</td>\n",
       "      <td>False</td>\n",
       "      <td>2</td>\n",
       "      <td>NaN</td>\n",
       "      <td>1674</td>\n",
       "      <td>105427130</td>\n",
       "      <td>38.416481</td>\n",
       "      <td>-89.442638</td>\n",
       "      <td>2015-02-21 11:39:37.000</td>\n",
       "    </tr>\n",
       "  </tbody>\n",
       "</table>\n",
       "</div>"
      ],
      "text/plain": [
       "   FaultId  ESS_Id           EventTimeStamp  \\\n",
       "0        1  990349  2015-02-21 10:47:13.000   \n",
       "1        2  990360  2015-02-21 11:34:34.000   \n",
       "2        3  990364  2015-02-21 11:35:31.000   \n",
       "3        4  990370  2015-02-21 11:35:33.000   \n",
       "4        5  990416  2015-02-21 11:39:41.000   \n",
       "\n",
       "                          eventDescription  actionDescription  \\\n",
       "0  Low (Severity Low) Engine Coolant Level                NaN   \n",
       "1                                      NaN                NaN   \n",
       "2      Incorrect Data Steering Wheel Angle                NaN   \n",
       "3      Incorrect Data Steering Wheel Angle                NaN   \n",
       "4                                      NaN                NaN   \n",
       "\n",
       "                     ecuSoftwareVersion ecuSerialNumber              ecuModel  \\\n",
       "0                               unknown         unknown               unknown   \n",
       "1                               unknown         unknown               unknown   \n",
       "2                               unknown         unknown               unknown   \n",
       "3                               unknown         unknown               unknown   \n",
       "4  22281684P01*22357957P01*22362082P01*        13063430  0USA13_13_0415_2238A   \n",
       "\n",
       "   ecuMake  ecuSource   spn  fmi  active  activeTransitionCount  faultValue  \\\n",
       "0  unknown          0   111   17    True                      2         NaN   \n",
       "1  unknown         11   629   12    True                    127         NaN   \n",
       "2  unknown         11  1807    2   False                    127         NaN   \n",
       "3  unknown         11  1807    2    True                    127         NaN   \n",
       "4    VOLVO          0  4364   17   False                      2         NaN   \n",
       "\n",
       "  EquipmentID  MCTNumber   Latitude  Longitude        LocationTimeStamp  \n",
       "0        1439  105354361  38.857638 -84.626851  2015-02-21 11:34:25.000  \n",
       "1        1439  105354361  38.857638 -84.626851  2015-02-21 11:35:10.000  \n",
       "2        1369  105336226  41.421250 -87.767361  2015-02-21 11:35:26.000  \n",
       "3        1369  105336226  41.421018 -87.767361  2015-02-21 11:36:08.000  \n",
       "4        1674  105427130  38.416481 -89.442638  2015-02-21 11:39:37.000  "
      ]
     },
     "execution_count": 3,
     "metadata": {},
     "output_type": "execute_result"
    }
   ],
   "source": [
    "faults.head()"
   ]
  },
  {
   "cell_type": "code",
   "execution_count": 4,
   "metadata": {},
   "outputs": [
    {
     "name": "stdout",
     "output_type": "stream",
     "text": [
      "<class 'pandas.core.frame.DataFrame'>\n",
      "RangeIndex: 1085683 entries, 0 to 1085682\n",
      "Data columns (total 20 columns):\n",
      "FaultId                  1085683 non-null int64\n",
      "ESS_Id                   1085683 non-null int64\n",
      "EventTimeStamp           1085683 non-null object\n",
      "eventDescription         1028656 non-null object\n",
      "actionDescription        0 non-null float64\n",
      "ecuSoftwareVersion       846515 non-null object\n",
      "ecuSerialNumber          801882 non-null object\n",
      "ecuModel                 1028257 non-null object\n",
      "ecuMake                  1028257 non-null object\n",
      "ecuSource                1085683 non-null int64\n",
      "spn                      1085683 non-null int64\n",
      "fmi                      1085683 non-null int64\n",
      "active                   1085683 non-null bool\n",
      "activeTransitionCount    1085683 non-null int64\n",
      "faultValue               0 non-null float64\n",
      "EquipmentID              1085683 non-null object\n",
      "MCTNumber                1085683 non-null int64\n",
      "Latitude                 1085683 non-null float64\n",
      "Longitude                1085683 non-null float64\n",
      "LocationTimeStamp        1085683 non-null object\n",
      "dtypes: bool(1), float64(4), int64(7), object(8)\n",
      "memory usage: 158.4+ MB\n"
     ]
    }
   ],
   "source": [
    "faults.info()"
   ]
  },
  {
   "cell_type": "code",
   "execution_count": 5,
   "metadata": {},
   "outputs": [],
   "source": [
    "#faults.EquipmentID = faults.EquipmentID.astype(int)\n",
    "faults.EquipmentID = pd.to_numeric(faults.EquipmentID, errors='coerce')"
   ]
  },
  {
   "cell_type": "code",
   "execution_count": 6,
   "metadata": {},
   "outputs": [
    {
     "name": "stdout",
     "output_type": "stream",
     "text": [
      "<class 'pandas.core.frame.DataFrame'>\n",
      "RangeIndex: 1085683 entries, 0 to 1085682\n",
      "Data columns (total 20 columns):\n",
      "FaultId                  1085683 non-null int64\n",
      "ESS_Id                   1085683 non-null int64\n",
      "EventTimeStamp           1085683 non-null object\n",
      "eventDescription         1028656 non-null object\n",
      "actionDescription        0 non-null float64\n",
      "ecuSoftwareVersion       846515 non-null object\n",
      "ecuSerialNumber          801882 non-null object\n",
      "ecuModel                 1028257 non-null object\n",
      "ecuMake                  1028257 non-null object\n",
      "ecuSource                1085683 non-null int64\n",
      "spn                      1085683 non-null int64\n",
      "fmi                      1085683 non-null int64\n",
      "active                   1085683 non-null bool\n",
      "activeTransitionCount    1085683 non-null int64\n",
      "faultValue               0 non-null float64\n",
      "EquipmentID              1085660 non-null float64\n",
      "MCTNumber                1085683 non-null int64\n",
      "Latitude                 1085683 non-null float64\n",
      "Longitude                1085683 non-null float64\n",
      "LocationTimeStamp        1085683 non-null object\n",
      "dtypes: bool(1), float64(5), int64(7), object(7)\n",
      "memory usage: 158.4+ MB\n"
     ]
    }
   ],
   "source": [
    "faults.info()"
   ]
  },
  {
   "cell_type": "code",
   "execution_count": 7,
   "metadata": {},
   "outputs": [
    {
     "data": {
      "text/html": [
       "<div>\n",
       "<style scoped>\n",
       "    .dataframe tbody tr th:only-of-type {\n",
       "        vertical-align: middle;\n",
       "    }\n",
       "\n",
       "    .dataframe tbody tr th {\n",
       "        vertical-align: top;\n",
       "    }\n",
       "\n",
       "    .dataframe thead th {\n",
       "        text-align: right;\n",
       "    }\n",
       "</style>\n",
       "<table border=\"1\" class=\"dataframe\">\n",
       "  <thead>\n",
       "    <tr style=\"text-align: right;\">\n",
       "      <th></th>\n",
       "      <th>record_Id</th>\n",
       "      <th>Name</th>\n",
       "      <th>Value</th>\n",
       "      <th>FaultId</th>\n",
       "    </tr>\n",
       "  </thead>\n",
       "  <tbody>\n",
       "    <tr>\n",
       "      <th>0</th>\n",
       "      <td>1</td>\n",
       "      <td>IgnStatus</td>\n",
       "      <td>False</td>\n",
       "      <td>1</td>\n",
       "    </tr>\n",
       "    <tr>\n",
       "      <th>1</th>\n",
       "      <td>2</td>\n",
       "      <td>EngineOilPressure</td>\n",
       "      <td>0</td>\n",
       "      <td>1</td>\n",
       "    </tr>\n",
       "    <tr>\n",
       "      <th>2</th>\n",
       "      <td>3</td>\n",
       "      <td>EngineOilTemperature</td>\n",
       "      <td>96.74375</td>\n",
       "      <td>1</td>\n",
       "    </tr>\n",
       "    <tr>\n",
       "      <th>3</th>\n",
       "      <td>4</td>\n",
       "      <td>TurboBoostPressure</td>\n",
       "      <td>0</td>\n",
       "      <td>1</td>\n",
       "    </tr>\n",
       "    <tr>\n",
       "      <th>4</th>\n",
       "      <td>5</td>\n",
       "      <td>EngineLoad</td>\n",
       "      <td>11</td>\n",
       "      <td>1</td>\n",
       "    </tr>\n",
       "  </tbody>\n",
       "</table>\n",
       "</div>"
      ],
      "text/plain": [
       "   record_Id                  Name     Value  FaultId\n",
       "0          1             IgnStatus     False        1\n",
       "1          2     EngineOilPressure         0        1\n",
       "2          3  EngineOilTemperature  96.74375        1\n",
       "3          4    TurboBoostPressure         0        1\n",
       "4          5            EngineLoad        11        1"
      ]
     },
     "execution_count": 7,
     "metadata": {},
     "output_type": "execute_result"
    }
   ],
   "source": [
    "diagnostics.head()"
   ]
  },
  {
   "cell_type": "code",
   "execution_count": 8,
   "metadata": {},
   "outputs": [
    {
     "name": "stdout",
     "output_type": "stream",
     "text": [
      "<class 'pandas.core.frame.DataFrame'>\n",
      "RangeIndex: 11687087 entries, 0 to 11687086\n",
      "Data columns (total 4 columns):\n",
      "record_Id    int64\n",
      "Name         object\n",
      "Value        object\n",
      "FaultId      int64\n",
      "dtypes: int64(2), object(2)\n",
      "memory usage: 356.7+ MB\n"
     ]
    }
   ],
   "source": [
    "diagnostics.info()"
   ]
  },
  {
   "cell_type": "code",
   "execution_count": 9,
   "metadata": {},
   "outputs": [
    {
     "name": "stdout",
     "output_type": "stream",
     "text": [
      "<class 'pandas.core.frame.DataFrame'>\n",
      "RangeIndex: 1085683 entries, 0 to 1085682\n",
      "Data columns (total 20 columns):\n",
      "FaultId                  1085683 non-null int64\n",
      "ESS_Id                   1085683 non-null int64\n",
      "EventTimeStamp           1085683 non-null object\n",
      "eventDescription         1028656 non-null object\n",
      "actionDescription        0 non-null float64\n",
      "ecuSoftwareVersion       846515 non-null object\n",
      "ecuSerialNumber          801882 non-null object\n",
      "ecuModel                 1028257 non-null object\n",
      "ecuMake                  1028257 non-null object\n",
      "ecuSource                1085683 non-null int64\n",
      "spn                      1085683 non-null int64\n",
      "fmi                      1085683 non-null int64\n",
      "active                   1085683 non-null bool\n",
      "activeTransitionCount    1085683 non-null int64\n",
      "faultValue               0 non-null float64\n",
      "EquipmentID              1085660 non-null float64\n",
      "MCTNumber                1085683 non-null int64\n",
      "Latitude                 1085683 non-null float64\n",
      "Longitude                1085683 non-null float64\n",
      "LocationTimeStamp        1085683 non-null object\n",
      "dtypes: bool(1), float64(5), int64(7), object(7)\n",
      "memory usage: 158.4+ MB\n"
     ]
    }
   ],
   "source": [
    "faults.info()"
   ]
  },
  {
   "cell_type": "code",
   "execution_count": 10,
   "metadata": {},
   "outputs": [
    {
     "data": {
      "text/html": [
       "<div>\n",
       "<style scoped>\n",
       "    .dataframe tbody tr th:only-of-type {\n",
       "        vertical-align: middle;\n",
       "    }\n",
       "\n",
       "    .dataframe tbody tr th {\n",
       "        vertical-align: top;\n",
       "    }\n",
       "\n",
       "    .dataframe thead th {\n",
       "        text-align: right;\n",
       "    }\n",
       "</style>\n",
       "<table border=\"1\" class=\"dataframe\">\n",
       "  <thead>\n",
       "    <tr style=\"text-align: right;\">\n",
       "      <th></th>\n",
       "      <th>Published in CES 14602</th>\n",
       "      <th>Cummins Fault Code</th>\n",
       "      <th>Revision</th>\n",
       "      <th>PID</th>\n",
       "      <th>SID</th>\n",
       "      <th>MID</th>\n",
       "      <th>J1587 FMI</th>\n",
       "      <th>SPN</th>\n",
       "      <th>J1939 FMI</th>\n",
       "      <th>J2012 Pcode</th>\n",
       "      <th>Lamp Color</th>\n",
       "      <th>Lamp Device</th>\n",
       "      <th>Cummins Description</th>\n",
       "      <th>Algorithm Description</th>\n",
       "    </tr>\n",
       "  </thead>\n",
       "  <tbody>\n",
       "    <tr>\n",
       "      <th>0</th>\n",
       "      <td>Y</td>\n",
       "      <td>111</td>\n",
       "      <td>167</td>\n",
       "      <td>Not Mapped</td>\n",
       "      <td>254</td>\n",
       "      <td>0</td>\n",
       "      <td>12</td>\n",
       "      <td>629</td>\n",
       "      <td>12</td>\n",
       "      <td>P0606</td>\n",
       "      <td>Red</td>\n",
       "      <td>Stop / Shutdown</td>\n",
       "      <td>Engine Control Module Critical Internal Failur...</td>\n",
       "      <td>Error internal to the ECM related to memory ha...</td>\n",
       "    </tr>\n",
       "    <tr>\n",
       "      <th>1</th>\n",
       "      <td>Y</td>\n",
       "      <td>112</td>\n",
       "      <td>167</td>\n",
       "      <td>Not Mapped</td>\n",
       "      <td>20</td>\n",
       "      <td>128</td>\n",
       "      <td>7</td>\n",
       "      <td>635</td>\n",
       "      <td>7</td>\n",
       "      <td>Not Mapped</td>\n",
       "      <td>Red</td>\n",
       "      <td>Stop / Shutdown</td>\n",
       "      <td>Engine Timing Actuator Driver Circuit - Mechan...</td>\n",
       "      <td>Mechanical failure in the engine timing actuat...</td>\n",
       "    </tr>\n",
       "    <tr>\n",
       "      <th>2</th>\n",
       "      <td>Y</td>\n",
       "      <td>113</td>\n",
       "      <td>167</td>\n",
       "      <td>Not Mapped</td>\n",
       "      <td>20</td>\n",
       "      <td>128</td>\n",
       "      <td>3</td>\n",
       "      <td>635</td>\n",
       "      <td>3</td>\n",
       "      <td>Not Mapped</td>\n",
       "      <td>Amber</td>\n",
       "      <td>Warning</td>\n",
       "      <td>Engine Timing Actuator Driver Circuit - Voltag...</td>\n",
       "      <td>High signal voltage detected at the engine tim...</td>\n",
       "    </tr>\n",
       "    <tr>\n",
       "      <th>3</th>\n",
       "      <td>Y</td>\n",
       "      <td>114</td>\n",
       "      <td>167</td>\n",
       "      <td>Not Mapped</td>\n",
       "      <td>20</td>\n",
       "      <td>128</td>\n",
       "      <td>4</td>\n",
       "      <td>635</td>\n",
       "      <td>4</td>\n",
       "      <td>Not Mapped</td>\n",
       "      <td>Amber</td>\n",
       "      <td>Warning</td>\n",
       "      <td>Engine Timing Actuator Driver Circuit - Voltag...</td>\n",
       "      <td>Low voltage detected at the engine timing actu...</td>\n",
       "    </tr>\n",
       "    <tr>\n",
       "      <th>4</th>\n",
       "      <td>Y</td>\n",
       "      <td>115</td>\n",
       "      <td>167</td>\n",
       "      <td>190</td>\n",
       "      <td>Not Mapped</td>\n",
       "      <td>Not Mapped</td>\n",
       "      <td>2</td>\n",
       "      <td>612</td>\n",
       "      <td>2</td>\n",
       "      <td>P0008</td>\n",
       "      <td>Red</td>\n",
       "      <td>Stop / Shutdown</td>\n",
       "      <td>Engine Magnetic Speed/Position Lost Both of Tw...</td>\n",
       "      <td>The ECM has detected that the primary and back...</td>\n",
       "    </tr>\n",
       "  </tbody>\n",
       "</table>\n",
       "</div>"
      ],
      "text/plain": [
       "  Published in CES 14602  Cummins Fault Code  Revision         PID  \\\n",
       "0                      Y                 111       167  Not Mapped   \n",
       "1                      Y                 112       167  Not Mapped   \n",
       "2                      Y                 113       167  Not Mapped   \n",
       "3                      Y                 114       167  Not Mapped   \n",
       "4                      Y                 115       167         190   \n",
       "\n",
       "          SID         MID  J1587 FMI  SPN  J1939 FMI J2012 Pcode Lamp Color  \\\n",
       "0         254           0         12  629         12       P0606        Red   \n",
       "1          20         128          7  635          7  Not Mapped        Red   \n",
       "2          20         128          3  635          3  Not Mapped      Amber   \n",
       "3          20         128          4  635          4  Not Mapped      Amber   \n",
       "4  Not Mapped  Not Mapped          2  612          2       P0008        Red   \n",
       "\n",
       "       Lamp Device                                Cummins Description  \\\n",
       "0  Stop / Shutdown  Engine Control Module Critical Internal Failur...   \n",
       "1  Stop / Shutdown  Engine Timing Actuator Driver Circuit - Mechan...   \n",
       "2          Warning  Engine Timing Actuator Driver Circuit - Voltag...   \n",
       "3          Warning  Engine Timing Actuator Driver Circuit - Voltag...   \n",
       "4  Stop / Shutdown  Engine Magnetic Speed/Position Lost Both of Tw...   \n",
       "\n",
       "                               Algorithm Description  \n",
       "0  Error internal to the ECM related to memory ha...  \n",
       "1  Mechanical failure in the engine timing actuat...  \n",
       "2  High signal voltage detected at the engine tim...  \n",
       "3  Low voltage detected at the engine timing actu...  \n",
       "4  The ECM has detected that the primary and back...  "
      ]
     },
     "execution_count": 10,
     "metadata": {},
     "output_type": "execute_result"
    }
   ],
   "source": [
    "service.head()"
   ]
  },
  {
   "cell_type": "code",
   "execution_count": 11,
   "metadata": {},
   "outputs": [
    {
     "name": "stdout",
     "output_type": "stream",
     "text": [
      "<class 'pandas.core.frame.DataFrame'>\n",
      "RangeIndex: 7124 entries, 0 to 7123\n",
      "Data columns (total 14 columns):\n",
      "Published in CES 14602    7124 non-null object\n",
      "Cummins Fault Code        7124 non-null int64\n",
      "Revision                  7124 non-null int64\n",
      "PID                       7124 non-null object\n",
      "SID                       7124 non-null object\n",
      "MID                       7124 non-null object\n",
      "J1587 FMI                 7124 non-null int64\n",
      "SPN                       7124 non-null int64\n",
      "J1939 FMI                 7124 non-null int64\n",
      "J2012 Pcode               7124 non-null object\n",
      "Lamp Color                7124 non-null object\n",
      "Lamp Device               7124 non-null object\n",
      "Cummins Description       7124 non-null object\n",
      "Algorithm Description     2005 non-null object\n",
      "dtypes: int64(5), object(9)\n",
      "memory usage: 779.3+ KB\n"
     ]
    }
   ],
   "source": [
    "service.info()"
   ]
  },
  {
   "cell_type": "code",
   "execution_count": 12,
   "metadata": {},
   "outputs": [
    {
     "data": {
      "text/plain": [
       "CMMNS              409642\n",
       "unknown            294542\n",
       "PACCR              225482\n",
       "BNDWS               63873\n",
       "PCAR                18964\n",
       "VOLVO                7252\n",
       "EATON                6474\n",
       "?????                 686\n",
       "????S                 526\n",
       "????R                 327\n",
       "?MMNS                 270\n",
       "?CAR                  151\n",
       "?ACCR                  39\n",
       "?NDWS                  15\n",
       "?????MX                 6\n",
       "?????MX16U13D13         4\n",
       "??MNS                   3\n",
       "???R                    1\n",
       "Name: ecuMake, dtype: int64"
      ]
     },
     "execution_count": 12,
     "metadata": {},
     "output_type": "execute_result"
    }
   ],
   "source": [
    "faults['ecuMake'].value_counts()"
   ]
  },
  {
   "cell_type": "code",
   "execution_count": 13,
   "metadata": {},
   "outputs": [
    {
     "data": {
      "text/plain": [
       "unknown                 294542\n",
       "CECU3B-NAMUX4           226099\n",
       "6X1u10D1500000000       216230\n",
       "6X1u13D1500000000       189886\n",
       "EC60-adv                 47717\n",
       "MX                       16362\n",
       "EC80ESP                  16171\n",
       "0USA13_13_0415_2238A      7252\n",
       "6X1u17D1500000000         4418\n",
       "FAOM-xx810S-EC3           3688\n",
       "EEO-xxF112C               2774\n",
       "MX16U13D13                2754\n",
       "CE                         242\n",
       "EC80ESP+                    42\n",
       "6L u13D0890000000           28\n",
       "CECU3-NAMUX3                20\n",
       "Gen 4 Boot Loader           12\n",
       "Y044053                      4\n",
       "6U13D13                      4\n",
       "20412511P07                  4\n",
       "EC80ESP AM000036             3\n",
       "________Y043718              2\n",
       "EC80ESP AM000038             2\n",
       "0USA10_13_0405_2237A         1\n",
       "Name: ecuModel, dtype: int64"
      ]
     },
     "execution_count": 13,
     "metadata": {},
     "output_type": "execute_result"
    }
   ],
   "source": [
    "faults['ecuModel'].value_counts()"
   ]
  },
  {
   "cell_type": "code",
   "execution_count": 14,
   "metadata": {},
   "outputs": [
    {
     "data": {
      "text/plain": [
       "24"
      ]
     },
     "execution_count": 14,
     "metadata": {},
     "output_type": "execute_result"
    }
   ],
   "source": [
    "faults['ecuModel'].nunique()"
   ]
  },
  {
   "cell_type": "code",
   "execution_count": null,
   "metadata": {},
   "outputs": [],
   "source": []
  },
  {
   "cell_type": "code",
   "execution_count": 15,
   "metadata": {},
   "outputs": [],
   "source": [
    "faults.loc[faults['ecuMake'].isin(['PCAR', '????R',\n",
    "                                 '?CAR', '?ACCR', '???R']), 'ecuMake']=\"PACCR\"\n",
    "faults.loc[faults['ecuMake'].isin(['?MMNS', '??MNS']), 'ecuMake']=\"CMMNS\"\n",
    "faults.loc[faults['ecuMake']=='?NDWS', 'ecuMake']=\"BNDWS\"\n"
   ]
  },
  {
   "cell_type": "code",
   "execution_count": 16,
   "metadata": {},
   "outputs": [
    {
     "data": {
      "text/plain": [
       "CMMNS              409915\n",
       "unknown            294542\n",
       "PACCR              244964\n",
       "BNDWS               63888\n",
       "VOLVO                7252\n",
       "EATON                6474\n",
       "?????                 686\n",
       "????S                 526\n",
       "?????MX                 6\n",
       "?????MX16U13D13         4\n",
       "Name: ecuMake, dtype: int64"
      ]
     },
     "execution_count": 16,
     "metadata": {},
     "output_type": "execute_result"
    }
   ],
   "source": [
    "faults['ecuMake'].value_counts()"
   ]
  },
  {
   "cell_type": "code",
   "execution_count": 17,
   "metadata": {},
   "outputs": [],
   "source": [
    "merged = faults.set_index('FaultId').join(diagnostics.pivot(\n",
    "    index = 'FaultId', \n",
    "    columns = 'Name', \n",
    "    values = 'Value')).reset_index().set_index('FaultId')"
   ]
  },
  {
   "cell_type": "code",
   "execution_count": 18,
   "metadata": {},
   "outputs": [],
   "source": [
    "#merged2=pd.merge(diagnostic,fault,on=\"FaultId\",how=\"inner\")"
   ]
  },
  {
   "cell_type": "code",
   "execution_count": 19,
   "metadata": {},
   "outputs": [
    {
     "data": {
      "text/html": [
       "<div>\n",
       "<style scoped>\n",
       "    .dataframe tbody tr th:only-of-type {\n",
       "        vertical-align: middle;\n",
       "    }\n",
       "\n",
       "    .dataframe tbody tr th {\n",
       "        vertical-align: top;\n",
       "    }\n",
       "\n",
       "    .dataframe thead th {\n",
       "        text-align: right;\n",
       "    }\n",
       "</style>\n",
       "<table border=\"1\" class=\"dataframe\">\n",
       "  <thead>\n",
       "    <tr style=\"text-align: right;\">\n",
       "      <th></th>\n",
       "      <th>ESS_Id</th>\n",
       "      <th>EventTimeStamp</th>\n",
       "      <th>eventDescription</th>\n",
       "      <th>actionDescription</th>\n",
       "      <th>ecuSoftwareVersion</th>\n",
       "      <th>ecuSerialNumber</th>\n",
       "      <th>ecuModel</th>\n",
       "      <th>ecuMake</th>\n",
       "      <th>ecuSource</th>\n",
       "      <th>spn</th>\n",
       "      <th>...</th>\n",
       "      <th>FuelTemperature</th>\n",
       "      <th>IgnStatus</th>\n",
       "      <th>IntakeManifoldTemperature</th>\n",
       "      <th>LampStatus</th>\n",
       "      <th>ParkingBrake</th>\n",
       "      <th>ServiceDistance</th>\n",
       "      <th>Speed</th>\n",
       "      <th>SwitchedBatteryVoltage</th>\n",
       "      <th>Throttle</th>\n",
       "      <th>TurboBoostPressure</th>\n",
       "    </tr>\n",
       "    <tr>\n",
       "      <th>FaultId</th>\n",
       "      <th></th>\n",
       "      <th></th>\n",
       "      <th></th>\n",
       "      <th></th>\n",
       "      <th></th>\n",
       "      <th></th>\n",
       "      <th></th>\n",
       "      <th></th>\n",
       "      <th></th>\n",
       "      <th></th>\n",
       "      <th></th>\n",
       "      <th></th>\n",
       "      <th></th>\n",
       "      <th></th>\n",
       "      <th></th>\n",
       "      <th></th>\n",
       "      <th></th>\n",
       "      <th></th>\n",
       "      <th></th>\n",
       "      <th></th>\n",
       "      <th></th>\n",
       "    </tr>\n",
       "  </thead>\n",
       "  <tbody>\n",
       "    <tr>\n",
       "      <th>1</th>\n",
       "      <td>990349</td>\n",
       "      <td>2015-02-21 10:47:13.000</td>\n",
       "      <td>Low (Severity Low) Engine Coolant Level</td>\n",
       "      <td>NaN</td>\n",
       "      <td>unknown</td>\n",
       "      <td>unknown</td>\n",
       "      <td>unknown</td>\n",
       "      <td>unknown</td>\n",
       "      <td>0</td>\n",
       "      <td>111</td>\n",
       "      <td>...</td>\n",
       "      <td>NaN</td>\n",
       "      <td>False</td>\n",
       "      <td>78.8</td>\n",
       "      <td>1023</td>\n",
       "      <td>True</td>\n",
       "      <td>NaN</td>\n",
       "      <td>0</td>\n",
       "      <td>3276.75</td>\n",
       "      <td>NaN</td>\n",
       "      <td>0</td>\n",
       "    </tr>\n",
       "    <tr>\n",
       "      <th>2</th>\n",
       "      <td>990360</td>\n",
       "      <td>2015-02-21 11:34:34.000</td>\n",
       "      <td>NaN</td>\n",
       "      <td>NaN</td>\n",
       "      <td>unknown</td>\n",
       "      <td>unknown</td>\n",
       "      <td>unknown</td>\n",
       "      <td>unknown</td>\n",
       "      <td>11</td>\n",
       "      <td>629</td>\n",
       "      <td>...</td>\n",
       "      <td>NaN</td>\n",
       "      <td>True</td>\n",
       "      <td>NaN</td>\n",
       "      <td>1279</td>\n",
       "      <td>NaN</td>\n",
       "      <td>NaN</td>\n",
       "      <td>NaN</td>\n",
       "      <td>NaN</td>\n",
       "      <td>NaN</td>\n",
       "      <td>NaN</td>\n",
       "    </tr>\n",
       "    <tr>\n",
       "      <th>3</th>\n",
       "      <td>990364</td>\n",
       "      <td>2015-02-21 11:35:31.000</td>\n",
       "      <td>Incorrect Data Steering Wheel Angle</td>\n",
       "      <td>NaN</td>\n",
       "      <td>unknown</td>\n",
       "      <td>unknown</td>\n",
       "      <td>unknown</td>\n",
       "      <td>unknown</td>\n",
       "      <td>11</td>\n",
       "      <td>1807</td>\n",
       "      <td>...</td>\n",
       "      <td>NaN</td>\n",
       "      <td>NaN</td>\n",
       "      <td>NaN</td>\n",
       "      <td>1279</td>\n",
       "      <td>NaN</td>\n",
       "      <td>NaN</td>\n",
       "      <td>NaN</td>\n",
       "      <td>NaN</td>\n",
       "      <td>NaN</td>\n",
       "      <td>NaN</td>\n",
       "    </tr>\n",
       "    <tr>\n",
       "      <th>4</th>\n",
       "      <td>990370</td>\n",
       "      <td>2015-02-21 11:35:33.000</td>\n",
       "      <td>Incorrect Data Steering Wheel Angle</td>\n",
       "      <td>NaN</td>\n",
       "      <td>unknown</td>\n",
       "      <td>unknown</td>\n",
       "      <td>unknown</td>\n",
       "      <td>unknown</td>\n",
       "      <td>11</td>\n",
       "      <td>1807</td>\n",
       "      <td>...</td>\n",
       "      <td>NaN</td>\n",
       "      <td>True</td>\n",
       "      <td>NaN</td>\n",
       "      <td>1279</td>\n",
       "      <td>NaN</td>\n",
       "      <td>NaN</td>\n",
       "      <td>NaN</td>\n",
       "      <td>NaN</td>\n",
       "      <td>NaN</td>\n",
       "      <td>NaN</td>\n",
       "    </tr>\n",
       "    <tr>\n",
       "      <th>5</th>\n",
       "      <td>990416</td>\n",
       "      <td>2015-02-21 11:39:41.000</td>\n",
       "      <td>NaN</td>\n",
       "      <td>NaN</td>\n",
       "      <td>22281684P01*22357957P01*22362082P01*</td>\n",
       "      <td>13063430</td>\n",
       "      <td>0USA13_13_0415_2238A</td>\n",
       "      <td>VOLVO</td>\n",
       "      <td>0</td>\n",
       "      <td>4364</td>\n",
       "      <td>...</td>\n",
       "      <td>NaN</td>\n",
       "      <td>NaN</td>\n",
       "      <td>NaN</td>\n",
       "      <td>16639</td>\n",
       "      <td>NaN</td>\n",
       "      <td>NaN</td>\n",
       "      <td>NaN</td>\n",
       "      <td>NaN</td>\n",
       "      <td>NaN</td>\n",
       "      <td>NaN</td>\n",
       "    </tr>\n",
       "  </tbody>\n",
       "</table>\n",
       "<p>5 rows × 43 columns</p>\n",
       "</div>"
      ],
      "text/plain": [
       "         ESS_Id           EventTimeStamp  \\\n",
       "FaultId                                    \n",
       "1        990349  2015-02-21 10:47:13.000   \n",
       "2        990360  2015-02-21 11:34:34.000   \n",
       "3        990364  2015-02-21 11:35:31.000   \n",
       "4        990370  2015-02-21 11:35:33.000   \n",
       "5        990416  2015-02-21 11:39:41.000   \n",
       "\n",
       "                                eventDescription  actionDescription  \\\n",
       "FaultId                                                               \n",
       "1        Low (Severity Low) Engine Coolant Level                NaN   \n",
       "2                                            NaN                NaN   \n",
       "3            Incorrect Data Steering Wheel Angle                NaN   \n",
       "4            Incorrect Data Steering Wheel Angle                NaN   \n",
       "5                                            NaN                NaN   \n",
       "\n",
       "                           ecuSoftwareVersion ecuSerialNumber  \\\n",
       "FaultId                                                         \n",
       "1                                     unknown         unknown   \n",
       "2                                     unknown         unknown   \n",
       "3                                     unknown         unknown   \n",
       "4                                     unknown         unknown   \n",
       "5        22281684P01*22357957P01*22362082P01*        13063430   \n",
       "\n",
       "                     ecuModel  ecuMake  ecuSource   spn        ...          \\\n",
       "FaultId                                                        ...           \n",
       "1                     unknown  unknown          0   111        ...           \n",
       "2                     unknown  unknown         11   629        ...           \n",
       "3                     unknown  unknown         11  1807        ...           \n",
       "4                     unknown  unknown         11  1807        ...           \n",
       "5        0USA13_13_0415_2238A    VOLVO          0  4364        ...           \n",
       "\n",
       "         FuelTemperature  IgnStatus  IntakeManifoldTemperature  LampStatus  \\\n",
       "FaultId                                                                      \n",
       "1                    NaN      False                       78.8        1023   \n",
       "2                    NaN       True                        NaN        1279   \n",
       "3                    NaN        NaN                        NaN        1279   \n",
       "4                    NaN       True                        NaN        1279   \n",
       "5                    NaN        NaN                        NaN       16639   \n",
       "\n",
       "         ParkingBrake  ServiceDistance  Speed  SwitchedBatteryVoltage  \\\n",
       "FaultId                                                                 \n",
       "1                True              NaN      0                 3276.75   \n",
       "2                 NaN              NaN    NaN                     NaN   \n",
       "3                 NaN              NaN    NaN                     NaN   \n",
       "4                 NaN              NaN    NaN                     NaN   \n",
       "5                 NaN              NaN    NaN                     NaN   \n",
       "\n",
       "        Throttle TurboBoostPressure  \n",
       "FaultId                              \n",
       "1            NaN                  0  \n",
       "2            NaN                NaN  \n",
       "3            NaN                NaN  \n",
       "4            NaN                NaN  \n",
       "5            NaN                NaN  \n",
       "\n",
       "[5 rows x 43 columns]"
      ]
     },
     "execution_count": 19,
     "metadata": {},
     "output_type": "execute_result"
    }
   ],
   "source": [
    "merged.head()"
   ]
  },
  {
   "cell_type": "code",
   "execution_count": 20,
   "metadata": {},
   "outputs": [
    {
     "data": {
      "text/plain": [
       "(1085683, 43)"
      ]
     },
     "execution_count": 20,
     "metadata": {},
     "output_type": "execute_result"
    }
   ],
   "source": [
    "merged.shape"
   ]
  },
  {
   "cell_type": "markdown",
   "metadata": {},
   "source": [
    "### Find derated trucks"
   ]
  },
  {
   "cell_type": "code",
   "execution_count": 31,
   "metadata": {},
   "outputs": [
    {
     "data": {
      "text/html": [
       "<div>\n",
       "<style scoped>\n",
       "    .dataframe tbody tr th:only-of-type {\n",
       "        vertical-align: middle;\n",
       "    }\n",
       "\n",
       "    .dataframe tbody tr th {\n",
       "        vertical-align: top;\n",
       "    }\n",
       "\n",
       "    .dataframe thead th {\n",
       "        text-align: right;\n",
       "    }\n",
       "</style>\n",
       "<table border=\"1\" class=\"dataframe\">\n",
       "  <thead>\n",
       "    <tr style=\"text-align: right;\">\n",
       "      <th></th>\n",
       "      <th>ESS_Id</th>\n",
       "      <th>EventTimeStamp</th>\n",
       "      <th>eventDescription</th>\n",
       "      <th>actionDescription</th>\n",
       "      <th>ecuSoftwareVersion</th>\n",
       "      <th>ecuSerialNumber</th>\n",
       "      <th>ecuModel</th>\n",
       "      <th>ecuMake</th>\n",
       "      <th>ecuSource</th>\n",
       "      <th>spn</th>\n",
       "      <th>...</th>\n",
       "      <th>FuelTemperature</th>\n",
       "      <th>IgnStatus</th>\n",
       "      <th>IntakeManifoldTemperature</th>\n",
       "      <th>LampStatus</th>\n",
       "      <th>ParkingBrake</th>\n",
       "      <th>ServiceDistance</th>\n",
       "      <th>Speed</th>\n",
       "      <th>SwitchedBatteryVoltage</th>\n",
       "      <th>Throttle</th>\n",
       "      <th>TurboBoostPressure</th>\n",
       "    </tr>\n",
       "    <tr>\n",
       "      <th>FaultId</th>\n",
       "      <th></th>\n",
       "      <th></th>\n",
       "      <th></th>\n",
       "      <th></th>\n",
       "      <th></th>\n",
       "      <th></th>\n",
       "      <th></th>\n",
       "      <th></th>\n",
       "      <th></th>\n",
       "      <th></th>\n",
       "      <th></th>\n",
       "      <th></th>\n",
       "      <th></th>\n",
       "      <th></th>\n",
       "      <th></th>\n",
       "      <th></th>\n",
       "      <th></th>\n",
       "      <th></th>\n",
       "      <th></th>\n",
       "      <th></th>\n",
       "      <th></th>\n",
       "    </tr>\n",
       "  </thead>\n",
       "  <tbody>\n",
       "    <tr>\n",
       "      <th>41</th>\n",
       "      <td>990856</td>\n",
       "      <td>2015-02-21 12:06:22.000</td>\n",
       "      <td>Condition Exists Engine Protection Torque Derate</td>\n",
       "      <td>NaN</td>\n",
       "      <td>05317106*04047493*092613211021*09300006*G1*BDR*</td>\n",
       "      <td>79723635</td>\n",
       "      <td>6X1u13D1500000000</td>\n",
       "      <td>CMMNS</td>\n",
       "      <td>0</td>\n",
       "      <td>1569</td>\n",
       "      <td>...</td>\n",
       "      <td>32</td>\n",
       "      <td>True</td>\n",
       "      <td>51.8</td>\n",
       "      <td>18431</td>\n",
       "      <td>False</td>\n",
       "      <td>NaN</td>\n",
       "      <td>51.97187</td>\n",
       "      <td>3276.75</td>\n",
       "      <td>0</td>\n",
       "      <td>0.58</td>\n",
       "    </tr>\n",
       "  </tbody>\n",
       "</table>\n",
       "<p>1 rows × 43 columns</p>\n",
       "</div>"
      ],
      "text/plain": [
       "         ESS_Id           EventTimeStamp  \\\n",
       "FaultId                                    \n",
       "41       990856  2015-02-21 12:06:22.000   \n",
       "\n",
       "                                         eventDescription  actionDescription  \\\n",
       "FaultId                                                                        \n",
       "41       Condition Exists Engine Protection Torque Derate                NaN   \n",
       "\n",
       "                                      ecuSoftwareVersion ecuSerialNumber  \\\n",
       "FaultId                                                                    \n",
       "41       05317106*04047493*092613211021*09300006*G1*BDR*        79723635   \n",
       "\n",
       "                  ecuModel ecuMake  ecuSource   spn        ...          \\\n",
       "FaultId                                                    ...           \n",
       "41       6X1u13D1500000000   CMMNS          0  1569        ...           \n",
       "\n",
       "         FuelTemperature  IgnStatus  IntakeManifoldTemperature  LampStatus  \\\n",
       "FaultId                                                                      \n",
       "41                    32       True                       51.8       18431   \n",
       "\n",
       "         ParkingBrake  ServiceDistance     Speed  SwitchedBatteryVoltage  \\\n",
       "FaultId                                                                    \n",
       "41              False              NaN  51.97187                 3276.75   \n",
       "\n",
       "        Throttle TurboBoostPressure  \n",
       "FaultId                              \n",
       "41             0               0.58  \n",
       "\n",
       "[1 rows x 43 columns]"
      ]
     },
     "execution_count": 31,
     "metadata": {},
     "output_type": "execute_result"
    }
   ],
   "source": [
    "derated = merged[((merged['spn'] == 1569) & (merged['fmi'] == 31)) |\n",
    "                 ((merged['spn'] == 5246) & (merged['fmi'] == 0)) |\n",
    "                 ((merged['spn'] == 5246) & (merged['fmi'] == 15)) |\n",
    "                 ((merged['spn'] == 5246) & (merged['fmi'] == 16))]\n",
    "\n",
    "derated.head(1)\n",
    "#print(fullderate.head(2))\n",
    "#print(partialderate.head(2))\n",
    "#print(warnings.head(2))"
   ]
  },
  {
   "cell_type": "code",
   "execution_count": 33,
   "metadata": {},
   "outputs": [
    {
     "data": {
      "text/plain": [
       "(11207, 43)"
      ]
     },
     "execution_count": 33,
     "metadata": {},
     "output_type": "execute_result"
    }
   ],
   "source": [
    "derated.shape"
   ]
  },
  {
   "cell_type": "code",
   "execution_count": 35,
   "metadata": {
    "scrolled": true
   },
   "outputs": [],
   "source": [
    "derated=derated.drop_duplicates(subset=['EquipmentID', 'EventTimeStamp'], keep=\"first\")\n",
    "#derated.head()"
   ]
  },
  {
   "cell_type": "code",
   "execution_count": 36,
   "metadata": {},
   "outputs": [
    {
     "data": {
      "text/plain": [
       "CMMNS      9155\n",
       "unknown    1614\n",
       "????S        19\n",
       "Name: ecuMake, dtype: int64"
      ]
     },
     "execution_count": 36,
     "metadata": {},
     "output_type": "execute_result"
    }
   ],
   "source": [
    "derated[\"ecuMake\"].value_counts()"
   ]
  },
  {
   "cell_type": "code",
   "execution_count": null,
   "metadata": {},
   "outputs": [],
   "source": [
    "#ID = pd.to_numeric(ID, errors='coerce')\n",
    "merged_cm = merged[merged['ecuMake'] == 'CMMNS']\n",
    "merged_cm['EquipmentID'].value_counts()\n",
    "#merged_cm.EquipmentID = pd.to_numeric(merged.EquipmentID, errors='coerce').fillna(0).astype(np.int64)"
   ]
  },
  {
   "cell_type": "code",
   "execution_count": 37,
   "metadata": {},
   "outputs": [
    {
     "data": {
      "text/plain": [
       "1490.0         407\n",
       "1505.0         270\n",
       "1790.0         206\n",
       "1692.0         169\n",
       "1480.0         165\n",
       "1607.0         164\n",
       "1636.0         156\n",
       "105344451.0    156\n",
       "1670.0         154\n",
       "1888.0         146\n",
       "1473.0         128\n",
       "1645.0         128\n",
       "1580.0         126\n",
       "1383.0         124\n",
       "1395.0         124\n",
       "1587.0         109\n",
       "1417.0         107\n",
       "1711.0         107\n",
       "1591.0         104\n",
       "1564.0          99\n",
       "1577.0          95\n",
       "1494.0          92\n",
       "1818.0          90\n",
       "1778.0          83\n",
       "1573.0          83\n",
       "1608.0          82\n",
       "1966.0          73\n",
       "1730.0          70\n",
       "1853.0          70\n",
       "1787.0          64\n",
       "              ... \n",
       "1514.0           2\n",
       "2209.0           2\n",
       "1900.0           2\n",
       "1985.0           2\n",
       "2120.0           2\n",
       "1914.0           2\n",
       "1859.0           2\n",
       "1423.0           2\n",
       "1824.0           2\n",
       "307.0            2\n",
       "1714.0           2\n",
       "1465.0           2\n",
       "1632.0           2\n",
       "1621.0           2\n",
       "1898.0           2\n",
       "2012.0           2\n",
       "1907.0           2\n",
       "1335.0           2\n",
       "1740.0           2\n",
       "1869.0           2\n",
       "1980.0           2\n",
       "1994.0           2\n",
       "1893.0           2\n",
       "1435.0           2\n",
       "105411041.0      1\n",
       "1927.0           1\n",
       "105360462.0      1\n",
       "105359197.0      1\n",
       "105338352.0      1\n",
       "1944.0           1\n",
       "Name: EquipmentID, Length: 444, dtype: int64"
      ]
     },
     "execution_count": 37,
     "metadata": {},
     "output_type": "execute_result"
    }
   ],
   "source": [
    "derated_cm = derated[derated['ecuMake'] == 'CMMNS']\n",
    "derated_cm['EquipmentID'].value_counts()"
   ]
  },
  {
   "cell_type": "markdown",
   "metadata": {},
   "source": [
    "### create partial and full derate data type"
   ]
  },
  {
   "cell_type": "code",
   "execution_count": 38,
   "metadata": {},
   "outputs": [],
   "source": [
    "partialderate = merged[(merged['spn'] == 1569) & (merged['fmi'] == 31)]\n",
    "fullderate = merged[(merged['spn'] == 5246) & (merged['fmi'] == 0)]\n",
    "warnings = merged[((merged['spn'] == 5246) & (merged['fmi'] == 15)) |\n",
    "                 ((merged['spn'] == 5246) & (merged['fmi'] == 16))]"
   ]
  },
  {
   "cell_type": "code",
   "execution_count": 39,
   "metadata": {},
   "outputs": [
    {
     "data": {
      "text/plain": [
       "(701, 43)"
      ]
     },
     "execution_count": 39,
     "metadata": {},
     "output_type": "execute_result"
    }
   ],
   "source": [
    "fullderate.shape"
   ]
  },
  {
   "cell_type": "code",
   "execution_count": 41,
   "metadata": {},
   "outputs": [
    {
     "data": {
      "text/plain": [
       "(10245, 43)"
      ]
     },
     "execution_count": 41,
     "metadata": {},
     "output_type": "execute_result"
    }
   ],
   "source": [
    "partialderate.shape"
   ]
  },
  {
   "cell_type": "code",
   "execution_count": 42,
   "metadata": {},
   "outputs": [
    {
     "data": {
      "text/plain": [
       "(261, 43)"
      ]
     },
     "execution_count": 42,
     "metadata": {},
     "output_type": "execute_result"
    }
   ],
   "source": [
    "warnings.shape"
   ]
  },
  {
   "cell_type": "code",
   "execution_count": null,
   "metadata": {},
   "outputs": [],
   "source": []
  }
 ],
 "metadata": {
  "kernelspec": {
   "display_name": "Python 3",
   "language": "python",
   "name": "python3"
  },
  "language_info": {
   "codemirror_mode": {
    "name": "ipython",
    "version": 3
   },
   "file_extension": ".py",
   "mimetype": "text/x-python",
   "name": "python",
   "nbconvert_exporter": "python",
   "pygments_lexer": "ipython3",
   "version": "3.6.8"
  }
 },
 "nbformat": 4,
 "nbformat_minor": 2
}
